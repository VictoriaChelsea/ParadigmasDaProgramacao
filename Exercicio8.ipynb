{
 "cells": [
  {
   "cell_type": "markdown",
   "metadata": {},
   "source": [
    "1. Escreva uma função que calcula a soma dos n primeiros números naturais, dado que n é recebido como parâmetro. Escreva um decorator que garanta que o valor recebido é natural (maior ou igual a 1)."
   ]
  },
  {
   "cell_type": "code",
   "execution_count": 2,
   "metadata": {},
   "outputs": [
    {
     "name": "stdout",
     "output_type": "stream",
     "text": [
      "15\n"
     ]
    }
   ],
   "source": [
    "\n",
    "def somaDecorator(fnc, num): \n",
    "    if num >= 1:\n",
    "        def decorator():\n",
    "            fnc(num)\n",
    "        return decorator\n",
    "    return lambda: print(\"Numero inválido %\" % num)\n",
    "\n",
    "\n",
    "def soma(numero):\n",
    "    soma = 0\n",
    "    for n in range(1, numero + 1):\n",
    "        soma += n \n",
    "    print(soma)\n",
    "\n",
    "somaDec = somaDecorator(soma, 5)\n",
    "\n",
    "somaDec()\n",
    "#sem anotacao"
   ]
  },
  {
   "cell_type": "code",
   "execution_count": 3,
   "metadata": {},
   "outputs": [
    {
     "name": "stdout",
     "output_type": "stream",
     "text": [
      "15\n"
     ]
    }
   ],
   "source": [
    "\n",
    "def somaDecorator(fnc):          \n",
    "    def decorator(*args): \n",
    "        if args[0] >= 1:    \n",
    "            fnc(*args)        \n",
    "        else:       \n",
    "            print(\"Numero invalido %i \" % args[0])    \n",
    "    return decorator\n",
    "\n",
    "@somaDecorator\n",
    "def soma(numero): \n",
    "    soma = 0 \n",
    "    for n in range(1, numero + 1):\n",
    "        soma += n   \n",
    "    print(soma)\n",
    "\n",
    "soma(5)\n",
    "##Com anotacao"
   ]
  },
  {
   "cell_type": "code",
   "execution_count": 4,
   "metadata": {},
   "outputs": [
    {
     "name": "stdout",
     "output_type": "stream",
     "text": [
      "15\n"
     ]
    }
   ],
   "source": [
    "\n",
    "class SomaDecorator: \n",
    "    def __init__(self, fnc):     \n",
    "        self.fnc = fnc     \n",
    "    def __call__(self, num):    \n",
    "        self.fnc(num)\n",
    "        \n",
    "@SomaDecorator\n",
    "def soma(num):  \n",
    "    soma = 0 \n",
    "    for n in range(1, num + 1):  \n",
    "        soma += n    \n",
    "    print(soma)\n",
    "    \n",
    "soma(5)\n",
    "#Com classe"
   ]
  },
  {
   "cell_type": "markdown",
   "metadata": {},
   "source": [
    "2. Escreva uma função que recebe uma lista de triplas e, para cada uma, gera uma equação do segundo grau considerando que os elementos da tripla são os coeficientes usualmente denominados a, b e c da equação. Note que a sua função\n",
    "deverá devolver uma lista de equações. A geração das equações deve ser feita por meio de, evidentemente, decorators."
   ]
  },
  {
   "cell_type": "code",
   "execution_count": 6,
   "metadata": {},
   "outputs": [
    {
     "name": "stdout",
     "output_type": "stream",
     "text": [
      "\n",
      "7 * x^2 + 4 * x + 5 \n",
      "\n",
      "3 * x^2 + 2 * x + 6 \n"
     ]
    }
   ],
   "source": [
    "\n",
    "def equacaoDecorator(**kwargs): \n",
    "    def decorator():\n",
    "        return kwargs.get('fnc')(kwargs.get('lista'))  \n",
    "    return decorator\n",
    "        \n",
    "def equacao(lista): \n",
    "    for l in lista:    \n",
    "        print(\"\\n%i * x^2 + %i * x + %i \" % (l[0], l[1], l[2]))\n",
    "    \n",
    "gerar = equacaoDecorator(fnc = equacao, lista = [[7,4,5],[3,2,6]])\n",
    "\n",
    "gerar()\n",
    "#Sem anotacao"
   ]
  },
  {
   "cell_type": "code",
   "execution_count": 7,
   "metadata": {},
   "outputs": [
    {
     "name": "stdout",
     "output_type": "stream",
     "text": [
      "\n",
      "7 * x^2 + 4 * x + 5 \n",
      "\n",
      "3 * x^2 + 2 * x + 6 \n"
     ]
    }
   ],
   "source": [
    "\n",
    "def equacaoDecorator(fnc):  \n",
    "    def decorator(*args):   \n",
    "        return fnc(*args)  \n",
    "    return decorator\n",
    "\n",
    "@equacaoDecorator       \n",
    "def equacao(lista):  \n",
    "    for l in lista:    \n",
    "        print(\"\\n%i * x^2 + %i * x + %i \" % (l[0], l[1], l[2]))\n",
    "    \n",
    "\n",
    "equacao([[7,4,5],[3,2,6]])\n",
    "#Com anotacao"
   ]
  },
  {
   "cell_type": "code",
   "execution_count": 8,
   "metadata": {},
   "outputs": [
    {
     "name": "stdout",
     "output_type": "stream",
     "text": [
      "\n",
      "7 * x^2 + 4 * x + 5 \n",
      "\n",
      "3 * x^2 + 2 * x + 6 \n"
     ]
    }
   ],
   "source": [
    "\n",
    "class EquacaoDecorator:\n",
    "    def __init__(self, fnc):   \n",
    "        self.fnc = fnc    \n",
    "    def __call__(self, lista):   \n",
    "        self.fnc(lista)\n",
    "\n",
    "@EquacaoDecorator       \n",
    "def equacao(lista):  \n",
    "    for l in lista:  \n",
    "        print(\"\\n%i * x^2 + %i * x + %i \" % (l[0], l[1], l[2]))\n",
    "    \n",
    "\n",
    "equacao([[7,4,5],[3,2,6]])\n",
    "#Com classe"
   ]
  },
  {
   "cell_type": "markdown",
   "metadata": {},
   "source": [
    "3. Escreva uma função que exibe uma lista recebida como parâmetro. Ela deve, contudo, ordenar a lista antes. A ordenação deve ser feita por meio de um decorator"
   ]
  },
  {
   "cell_type": "code",
   "execution_count": 9,
   "metadata": {},
   "outputs": [
    {
     "name": "stdout",
     "output_type": "stream",
     "text": [
      "[1, 3, 5, 9]\n"
     ]
    }
   ],
   "source": [
    "\n",
    "def ordernaLista(fnc, lista): \n",
    "    def decorator():        \n",
    "        fnc(lista)    \n",
    "    return decorator\n",
    "\n",
    "        \n",
    "def listar(lista): \n",
    "    lista.sort() \n",
    "    print(lista)\n",
    "        \n",
    "        \n",
    "exibirLista = ordernaLista(listar, [9,3,1,5])   \n",
    "exibirLista()\n",
    "#Sem anotacao"
   ]
  },
  {
   "cell_type": "code",
   "execution_count": 10,
   "metadata": {},
   "outputs": [
    {
     "name": "stdout",
     "output_type": "stream",
     "text": [
      "[1, 3, 5, 9]\n"
     ]
    }
   ],
   "source": [
    "\n",
    "def ordernaLista(fnc):\n",
    "    def decorator(*args):       \n",
    "        fnc(*args)   \n",
    "    return decorator\n",
    "\n",
    "@ordernaLista        \n",
    "def listar(lista):\n",
    "    lista.sort()\n",
    "    print(lista)\n",
    "        \n",
    "        \n",
    "listar([9,3,1,5])\n",
    "#Com anotacao"
   ]
  },
  {
   "cell_type": "code",
   "execution_count": 11,
   "metadata": {},
   "outputs": [
    {
     "name": "stdout",
     "output_type": "stream",
     "text": [
      "[1, 3, 5, 9]\n"
     ]
    }
   ],
   "source": [
    "\n",
    "class OrdernaLista:\n",
    "    def __init__(self, fnc):   \n",
    "        self.fnc = fnc  \n",
    "    def __call__(self, lista):   \n",
    "        self.fnc(lista)\n",
    "\n",
    "@OrdernaLista        \n",
    "def listar(lista):\n",
    "    lista.sort()\n",
    "    print(lista)\n",
    "        \n",
    "        \n",
    "listar([9,3,1,5])\n",
    "#com classe"
   ]
  },
  {
   "cell_type": "markdown",
   "metadata": {},
   "source": [
    "4. Escreva uma classe para representar um café que, a princípio, tem somente preço. Um cafezinho custa 5 reais. Escreva classes para representar os adicionais: palitos de chocolate (0,50 cents), espuma de leite (0,20 cents), caramelo (0,10 cents) e canela (0,30 cents). Crie um objeto café e, a seguir, faça um menuzinho em que o usuário pode ficar indefinidamente escolhendo adicionais: 1 para chocolate, 2 para espuma de leite, 3 para caramelo e 4 para canela. A cada adicional escolhido, decore o objeto café. No final, mostre o preço total."
   ]
  },
  {
   "cell_type": "code",
   "execution_count": 13,
   "metadata": {},
   "outputs": [
    {
     "name": "stdout",
     "output_type": "stream",
     "text": [
      "\n",
      "   Menu   \n",
      "1-Chocolate\n",
      "2-Espuma de leite\n",
      "3-Caramelo\n",
      "4-Canela\n",
      "0-Sair\n",
      "\n",
      "Digite uma opção para adicionar: 1\n",
      "\n",
      "--> Total Café: R$ 5.50 \n",
      "\n",
      "\n",
      "   Menu   \n",
      "1-Chocolate\n",
      "2-Espuma de leite\n",
      "3-Caramelo\n",
      "4-Canela\n",
      "0-Sair\n",
      "\n",
      "Digite uma opção para adicionar: 2\n",
      "\n",
      "--> Total Café: R$ 5.70 \n",
      "\n",
      "\n",
      "   Menu   \n",
      "1-Chocolate\n",
      "2-Espuma de leite\n",
      "3-Caramelo\n",
      "4-Canela\n",
      "0-Sair\n",
      "\n",
      "Digite uma opção para adicionar: 0\n"
     ]
    }
   ],
   "source": [
    "class Cafe:\n",
    "    def __init__(self):  \n",
    "        self._preco = 5\n",
    "        self._total = self._preco\n",
    "        \n",
    "    def __call__(self, obj):  \n",
    "        self._total += obj.getValor() \n",
    "        return obj\n",
    "    \n",
    "    def getTotal(self):\n",
    "        return self._total\n",
    "       \n",
    "    \n",
    "class PalitoChocolate:\n",
    "    def __init__(self):  \n",
    "        self._preco = 0.5\n",
    "       \n",
    "    def getValor(self):\n",
    "        return self._preco\n",
    "    \n",
    "class EspumaLeite:\n",
    "    def __init__(self): \n",
    "        self._preco = 0.2\n",
    "        \n",
    "    def getValor(self):  \n",
    "        return self._preco\n",
    "    \n",
    "class Caramelo:\n",
    "    def __init__(self): \n",
    "        self._preco = 0.10\n",
    "        \n",
    "    def getValor(self): \n",
    "        return self._preco\n",
    "    \n",
    "class Canela:\n",
    "    def __init__(self):  \n",
    "        self._preco = 0.30\n",
    "        \n",
    "    def getValor(self): \n",
    "        return self._preco\n",
    "    \n",
    "    \n",
    "cafe = Cafe()\n",
    "\n",
    "while True: \n",
    "    print('\\n   Menu   \\n1-Chocolate\\n2-Espuma de leite\\n3-Caramelo\\n4-Canela\\n0-Sair\\n')\n",
    "    opcao = int(input('Digite uma opção para adicionar: '))\n",
    "    \n",
    "    if(opcao == 1):\n",
    "        cafe(PalitoChocolate())  \n",
    "    if(opcao == 2):\n",
    "        cafe(EspumaLeite())    \n",
    "    if(opcao == 3):\n",
    "        cafe(Caramelo())\n",
    "    if(opcao == 4):\n",
    "        cafe(Canela()) \n",
    "    if(opcao == 0): \n",
    "        break   \n",
    "    print('\\n--> Total Café: R$ %.2f \\n' % cafe.getTotal())"
   ]
  },
  {
   "cell_type": "code",
   "execution_count": null,
   "metadata": {},
   "outputs": [],
   "source": []
  }
 ],
 "metadata": {
  "kernelspec": {
   "display_name": "Python 3",
   "language": "python",
   "name": "python3"
  },
  "language_info": {
   "codemirror_mode": {
    "name": "ipython",
    "version": 3
   },
   "file_extension": ".py",
   "mimetype": "text/x-python",
   "name": "python",
   "nbconvert_exporter": "python",
   "pygments_lexer": "ipython3",
   "version": "3.7.1"
  }
 },
 "nbformat": 4,
 "nbformat_minor": 2
}
