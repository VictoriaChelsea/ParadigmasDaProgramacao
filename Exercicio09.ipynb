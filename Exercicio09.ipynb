{
 "cells": [
  {
   "cell_type": "markdown",
   "metadata": {},
   "source": [
    "1. A seguinte função calcula o valor de uma equação do segundo grau no ponto x, dados os coeficientes a, b e c.\n",
    "        def equacao_segundo_grau (x, a, b, c):\n",
    "            return a * x * x + b * x + c\n",
    "1.1 Reescreva-a usando de modo que os valores a, b e c fiquem fixos e ela seja chamada passando somente o valor x, como ocorre na Listagem 1.1.1."
   ]
  },
  {
   "cell_type": "code",
   "execution_count": 9,
   "metadata": {},
   "outputs": [
    {
     "data": {
      "text/plain": [
       "17"
      ]
     },
     "execution_count": 9,
     "metadata": {},
     "output_type": "execute_result"
    }
   ],
   "source": [
    "def equacao_segundo_grau (a, b, c, x):\n",
    "    return a * x * x + b * x + c\n",
    "\n",
    "def equacao_segundo_grau3 (b, c, x):\n",
    "    return equacao_segundo_grau(3, b, c, x)\n",
    "\n",
    "def equacao_segundo_grau32 (c, x):\n",
    "    return equacao_segundo_grau3(2, c, x)\n",
    "\n",
    "def equacao_segundo_grau321 (x):\n",
    "    return equacao_segundo_grau32(1, x)\n",
    "\n",
    "equacao_segundo_grau321(2)\n"
   ]
  },
  {
   "cell_type": "markdown",
   "metadata": {},
   "source": [
    "1.2 Refaça o Exercício 1.1 usando o operador partial"
   ]
  },
  {
   "cell_type": "code",
   "execution_count": 1,
   "metadata": {},
   "outputs": [
    {
     "name": "stdout",
     "output_type": "stream",
     "text": [
      "17\n"
     ]
    }
   ],
   "source": [
    "from functools import partial\n",
    "\n",
    "def equacao_segundo_grau (a, b, c, x):\n",
    "    return a * x * x + b * x + c\n",
    "\n",
    "equacao_segundo_grau_3 = partial (equacao_segundo_grau, 3)\n",
    "equacao_segundo_grau_3_2 = partial (equacao_segundo_grau_3, 2)\n",
    "equacao_segundo_grau_3_2_1 = partial (equacao_segundo_grau_3_2, 1)\n",
    "print(equacao_segundo_grau_3_2_1(2))\n",
    "\n"
   ]
  },
  {
   "cell_type": "markdown",
   "metadata": {},
   "source": [
    "1.3 Escreva uma função recursiva para calcular a seguinte relação de recorrência:\n",
    "f(n) =\n",
    "        1 se n >= 1 e n <= 5\n",
    "        2 * (n – 1) + 3 caso contrário"
   ]
  },
  {
   "cell_type": "code",
   "execution_count": 5,
   "metadata": {},
   "outputs": [
    {
     "name": "stdout",
     "output_type": "stream",
     "text": [
      "125\n"
     ]
    }
   ],
   "source": [
    "\n",
    "def f_rec(n):\n",
    "    if n >=1 and n <= 5:\n",
    "        return 1\n",
    "    return 2 * f_rec(n - 1) + 3\n",
    "    \n",
    "print(f_rec(10))"
   ]
  },
  {
   "cell_type": "markdown",
   "metadata": {},
   "source": [
    "1.4 Refaça o Exercício 1.3 usando Memoization."
   ]
  },
  {
   "cell_type": "code",
   "execution_count": 11,
   "metadata": {},
   "outputs": [
    {
     "name": "stdout",
     "output_type": "stream",
     "text": [
      "Relação de recorrência com Memoized: 125\n"
     ]
    }
   ],
   "source": [
    "cache = {}\n",
    "cache[1] = 1\n",
    "cache [2] = 1\n",
    "cache[3] = 1\n",
    "cache [4] = 1\n",
    "cache[5] = 1\n",
    "\n",
    "def f_rec_memoized(n):\n",
    "    if n in cache:\n",
    "        return cache[n]\n",
    "    cache[n] = 2 * f_rec(n - 1) + 3\n",
    "    return cache[n]\n",
    "\n",
    "print (\"Relação de recorrência com Memoized: \" + str(f_rec_memoized(10)))\n",
    "\n"
   ]
  },
  {
   "cell_type": "markdown",
   "metadata": {},
   "source": [
    "1.5 Refaça o Exercício 1.4 usando a técnica de Memoization implementada com um Decorator."
   ]
  },
  {
   "cell_type": "code",
   "execution_count": 5,
   "metadata": {},
   "outputs": [],
   "source": [
    "cache = {}\n",
    "cache[1] = 1\n",
    "cache [2] = 1\n",
    "cache[3] = 1\n",
    "cache [4] = 1\n",
    "cache[5] = 1\n",
    "\n",
    "\n",
    "def funcaoDecorator(fnc):\n",
    "    def decorator(*args):\n",
    "         fnc(*args)  \n",
    "    return decorator\n",
    "\n",
    "\n",
    "@funcaoDecorator\n",
    "def f_rec_memoized(n):\n",
    "    if n in cache:\n",
    "        return cache[n]\n",
    "    cache[n] = 2 * f_rec_memoized(n - 1) + 3\n",
    "    return cache[n]\n",
    "\n",
    "\n",
    "print(f_rec_memoized(10))"
   ]
  },
  {
   "cell_type": "code",
   "execution_count": null,
   "metadata": {},
   "outputs": [],
   "source": []
  },
  {
   "cell_type": "code",
   "execution_count": null,
   "metadata": {},
   "outputs": [],
   "source": []
  }
 ],
 "metadata": {
  "kernelspec": {
   "display_name": "Python 3",
   "language": "python",
   "name": "python3"
  },
  "language_info": {
   "codemirror_mode": {
    "name": "ipython",
    "version": 3
   },
   "file_extension": ".py",
   "mimetype": "text/x-python",
   "name": "python",
   "nbconvert_exporter": "python",
   "pygments_lexer": "ipython3",
   "version": "3.7.1"
  }
 },
 "nbformat": 4,
 "nbformat_minor": 2
}
