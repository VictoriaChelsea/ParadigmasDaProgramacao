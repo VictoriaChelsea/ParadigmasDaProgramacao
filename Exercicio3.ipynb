{
 "cells": [
  {
   "cell_type": "markdown",
   "metadata": {},
   "source": [
    "1. Faça um Programa que peça dois números e imprima o maior deles."
   ]
  },
  {
   "cell_type": "code",
   "execution_count": 2,
   "metadata": {},
   "outputs": [
    {
     "name": "stdout",
     "output_type": "stream",
     "text": [
      "Digite um número6\n",
      "Digite outro número1\n",
      "6 é maior\n"
     ]
    }
   ],
   "source": [
    "num1 = input('Digite um número')\n",
    "num2 = input('Digite outro número')\n",
    "\n",
    "if num1 > num2:\n",
    "    print(f'{num1} é maior')\n",
    "else:\n",
    "    print(f'{num2} é maior')"
   ]
  },
  {
   "cell_type": "markdown",
   "metadata": {},
   "source": [
    "2. Faça um Programa que verifique se uma letra digitada é vogal ou consoante."
   ]
  },
  {
   "cell_type": "code",
   "execution_count": 6,
   "metadata": {},
   "outputs": [
    {
     "name": "stdout",
     "output_type": "stream",
     "text": [
      "Digite uma letra para saber se é vogal ou consoantee\n",
      "É uma vogal\n"
     ]
    }
   ],
   "source": [
    "vogal='aeiou'\n",
    "letra = input('Digite uma letra para saber se é vogal ou consoante')\n",
    "\n",
    "if letra in vogal:\n",
    "    print('É uma vogal')\n",
    "else:\n",
    "    print('É uma consoante')"
   ]
  },
  {
   "cell_type": "markdown",
   "metadata": {},
   "source": [
    "3. Faça um programa para a leitura de duas notas parciais de um aluno. O programa deve calcular a média alcançada por aluno e apresentar:\n",
    "- A mensagem \"Aprovado\", se a média alcançada for maior ou igual a sete;\n",
    "- A mensagem \"Reprovado\", se a média for menor do que sete;\n",
    "- A mensagem \"Aprovado com Distinção\", se a média for igual a dez."
   ]
  },
  {
   "cell_type": "code",
   "execution_count": 13,
   "metadata": {},
   "outputs": [
    {
     "name": "stdout",
     "output_type": "stream",
     "text": [
      "Digite a primeira nota do aluno10\n",
      "Digite a segunda nota do aluno10\n",
      "Aluno APROVADO com Distinção, com média:10.0\n"
     ]
    }
   ],
   "source": [
    "nota1 = int(input('Digite a primeira nota do aluno'))\n",
    "nota2 = int(input('Digite a segunda nota do aluno'))\n",
    "\n",
    "media = (nota1 + nota2)/2\n",
    "if media < 7:\n",
    "    print(f'Aluno REPROVADO com média:{media}')\n",
    "elif media > 6 and media <10:\n",
    "    print (f'Aluno APROVADO com média:{media}')\n",
    "elif media == 10:\n",
    "    print(f'Aluno APROVADO com Distinção, com média:{media}')"
   ]
  },
  {
   "cell_type": "markdown",
   "metadata": {},
   "source": [
    "4. Faça um Programa que leia três números e mostre-os em ordem decrescente."
   ]
  },
  {
   "cell_type": "code",
   "execution_count": 3,
   "metadata": {},
   "outputs": [
    {
     "name": "stdout",
     "output_type": "stream",
     "text": [
      "Digite um número120\n",
      "Digite outro número236\n",
      "Digite outro número458\n",
      "458 236 120\n"
     ]
    }
   ],
   "source": [
    "n1 = input('Digite um número')\n",
    "n2 = input('Digite outro número')\n",
    "n3 = input('Digite outro número')\n",
    "\n",
    "if n1 > n2 and n1 > n3:\n",
    "    if n2 > n3:\n",
    "        print(n1, n2, n3)\n",
    "    else:\n",
    "        print(n1,n3,n2)\n",
    "elif n2 > n1 and n2 > n3:\n",
    "    if n1 > n3:\n",
    "        print(n2, n1, n3)\n",
    "    else:\n",
    "        print(n2,n3,n1)\n",
    "else:\n",
    "    if n2 > n1:\n",
    "        print(n3, n2, n1)\n",
    "    else:\n",
    "        print(n3,n1,n2)"
   ]
  },
  {
   "cell_type": "markdown",
   "metadata": {},
   "source": [
    "5. As Organizações Tabajara resolveram dar um aumento de salário aos seus colaboradores e lhe contrataram para desenvolver o programa que calculará os reajustes.\n",
    "Faça um programa que recebe o salário de um colaborador e o reajuste segundo o seguinte critério, baseado no salário atual:\n",
    "- salários até R$ 280,00 (incluindo) : aumento de 20%\n",
    "- salários entre R$ 280,00 e R$ 700,00 : aumento de 15%\n",
    "- salários entre R$ 700,00 e R$ 1500,00 : aumento de 10%\n",
    "- salários de R$ 1500,00 em diante : aumento de 5% Após o aumento ser realizado,\n",
    "informe na tela:\n",
    "- o salário antes do reajuste;\n",
    "- o percentual de aumento aplicado;\n",
    "- o valor do aumento;\n",
    "- o novo salário, após o aumento."
   ]
  },
  {
   "cell_type": "code",
   "execution_count": 2,
   "metadata": {},
   "outputs": [
    {
     "name": "stdout",
     "output_type": "stream",
     "text": [
      "Digite o salário de uma colaborador 1000\n",
      "Salario antes do reajuste: R$1000\n",
      "Percentual é:10%\n",
      "Valor do aumento: R$100.0\n",
      "Novo salário: R$1100.0\n"
     ]
    }
   ],
   "source": [
    "salario = int(input('Digite o salário de uma colaborador '))\n",
    "\n",
    "def calculaTudo(percentual, ajuste):\n",
    "    novo_salario = salario + ajuste\n",
    "    print(f'Salario antes do reajuste: R${salario}\\nPercentual é:{percentual}\\nValor do aumento: R${ajuste}\\nNovo salário: R${novo_salario}')\n",
    "\n",
    "if salario <= 280:\n",
    "    percentual = '20%'\n",
    "    ajuste = salario * 0.2\n",
    "    calculaTudo(percentual, ajuste)\n",
    "elif salario > 280 and salario <=700:\n",
    "    percentual = '15%'\n",
    "    ajuste = salario * 0.15\n",
    "    calculaTudo(percentual, ajuste)\n",
    "elif salario > 780 and salario < 1500:\n",
    "    percentual = '10%'\n",
    "    ajuste = salario * 0.1\n",
    "    calculaTudo(percentual, ajuste)\n",
    "else:\n",
    "    percentual = '5%'\n",
    "    ajuste = salario * 0.05\n",
    "    calculaTudo(percentual, ajuste)"
   ]
  },
  {
   "cell_type": "markdown",
   "metadata": {},
   "source": [
    "6. Faça um Programa que leia um número e exiba o dia correspondente da semana.\n",
    "(1-Domingo, 2- Segunda, etc.), se digitar outro valor deve aparecer valor inválido."
   ]
  },
  {
   "cell_type": "code",
   "execution_count": 8,
   "metadata": {},
   "outputs": [
    {
     "name": "stdout",
     "output_type": "stream",
     "text": [
      "Digite um número para saber o dia da semana correspondente: 10\n",
      "Valor digitado é inválido\n"
     ]
    }
   ],
   "source": [
    "dia = int(input('Digite um número para saber o dia da semana correspondente: '))\n",
    "\n",
    "if dia == 1:\n",
    "    print('Domingo')\n",
    "elif dia == 2:\n",
    "    print('Segunda-feira')\n",
    "elif dia == 3:\n",
    "    print('Terça-feira')\n",
    "elif dia == 4:\n",
    "    print('Quarta-feira')\n",
    "elif dia == 5:\n",
    "    print('Quinta-feira')\n",
    "elif dia == 6:\n",
    "    print('Sexta-feira')\n",
    "elif dia == 7:\n",
    "    print('Sábado')\n",
    "else:\n",
    "    print('Valor digitado é inválido')"
   ]
  },
  {
   "cell_type": "markdown",
   "metadata": {},
   "source": [
    "7. Faça um programa que lê as duas notas parciais obtidas por um aluno numa\n",
    "disciplina ao longo de um semestre, e calcule a sua média. A atribuição de conceitos\n",
    "obedece à tabela abaixo:\n",
    "Média de Aproveitamento Conceito\n",
    " Entre 9.0 e 10.0 A\n",
    " Entre 7.5 e 9.0 B\n",
    " Entre 6.0 e 7.5 C\n",
    " Entre 4.0 e 6.0 D\n",
    " Entre 4.0 e zero E\n",
    " O algoritmo deve mostrar na tela as notas, a média, o conceito correspondente e a\n",
    "mensagem “APROVADO” se o conceito for A, B ou C ou “REPROVADO” se o conceito\n",
    "for D ou E."
   ]
  },
  {
   "cell_type": "code",
   "execution_count": 9,
   "metadata": {},
   "outputs": [
    {
     "name": "stdout",
     "output_type": "stream",
     "text": [
      "Digite a primeira nota do aluno(a)3\n",
      "Digite a segunda nota do aluno(a)3\n",
      " Nota 1: 3\n",
      " Nota 2: 3\n",
      " Média: 3.0\n",
      " Conceito: E-Reprovado\n"
     ]
    }
   ],
   "source": [
    "nota1 = int(input('Digite a primeira nota do aluno(a)'))\n",
    "nota2 = int(input('Digite a segunda nota do aluno(a)'))\n",
    "\n",
    "media = (nota1 + nota2)/2\n",
    "\n",
    "if media >= 9 and media <= 10:\n",
    "    print(f' Nota 1: {nota1}\\n Nota 2: {nota2}\\n Média: {media}\\n Conceito: A-Aprovado')\n",
    "elif media >= 7.5 and media <9:\n",
    "    print(f' Nota 1: {nota1}\\n Nota 2: {nota2}\\n Média: {media}\\n Conceito: B-Aprovado')\n",
    "elif media >= 6 and media <7.5:\n",
    "    print(f' Nota 1: {nota1}\\n Nota 2: {nota2}\\n Média: {media}\\n Conceito: C-Aprovado')\n",
    "elif media >= 4 and media <6:\n",
    "    print(f' Nota 1: {nota1}\\n Nota 2: {nota2}\\n Média: {media}\\n Conceito: D-Reprovado')\n",
    "elif media >= 0 and media <4:\n",
    "    print(f' Nota 1: {nota1}\\n Nota 2: {nota2}\\n Média: {media}\\n Conceito: E-Reprovado')"
   ]
  },
  {
   "cell_type": "markdown",
   "metadata": {},
   "source": [
    "8. Faça um Programa que peça os 3 lados de um triângulo. O programa deverá informar se os valores podem ser um triângulo. Indique, caso os lados formem um triângulo, se o mesmo é: equilátero, isósceles ou escaleno.\n",
    "Dicas:\n",
    "- Três lados formam um triângulo quando a soma de quaisquer dois lados for maior que o terceiro;\n",
    "- Triângulo Equilátero: três lados iguais;\n",
    "- Triângulo Isósceles: quaisquer dois lados iguais;\n",
    "- Triângulo Escaleno: três lados diferentes;"
   ]
  },
  {
   "cell_type": "code",
   "execution_count": 21,
   "metadata": {},
   "outputs": [
    {
     "name": "stdout",
     "output_type": "stream",
     "text": [
      "Digite o primeiro lado do triângulo9\n",
      "Digite o segundo lado do triângulo8\n",
      "Digite o terceiro lado do triângulo5\n",
      "triângulo Escaleno\n"
     ]
    }
   ],
   "source": [
    "lado1 = int(input('Digite o primeiro lado do triângulo'))\n",
    "lado2 = int(input('Digite o segundo lado do triângulo'))\n",
    "lado3 = int(input('Digite o terceiro lado do triângulo'))\n",
    "\n",
    "if lado1 > (lado2 + lado3) or lado2 > (lado3 + lado1) or lado3 > (lado1 + lado2):\n",
    "    print('Não é um triângulo')\n",
    "else:\n",
    "    if lado1 == lado2 == lado3:\n",
    "        print('Triângulo Equilátero')\n",
    "    elif lado1 == lado2 or lado2 == lado3 or lado3 == lado1:\n",
    "        print('Triângulo Isóceles')\n",
    "    else:\n",
    "        print('triângulo Escaleno')\n",
    "    \n",
    "\n"
   ]
  },
  {
   "cell_type": "markdown",
   "metadata": {},
   "source": [
    "9. Faça um programa que calcule as raízes de uma equação do segundo grau, na forma ax2 + bx + c. O programa deverá pedir os valores de a, b e c e fazer as consistências, informando ao usuário nas seguintes situações:\n",
    "- Se o usuário informar o valor de A igual a zero, a equação não é do segundo grau e o programa não deve fazer pedir os demais valores, sendo encerrado; Ok\n",
    "- Se o delta calculado for negativo, a equação não possui raizes reais. Informe ao usuário e encerre o programa; OK\n",
    "- Se o delta calculado for igual a zero a equação possui apenas uma raiz real;\n",
    "informe-a ao usuário;\n",
    "- Se o delta for positivo, a equação possui duas raiz reais; informe-as ao usuário;"
   ]
  },
  {
   "cell_type": "code",
   "execution_count": 9,
   "metadata": {},
   "outputs": [
    {
     "name": "stdout",
     "output_type": "stream",
     "text": [
      "Digite o valor de A: 1\n",
      "Digite o valor de B: -5\n",
      "Digite o valor de C: 6\n",
      "Equação 1x² + -5x + 6\n",
      "Delta: 1.0\n",
      "Primeira raiz da equação: 3.0\n",
      "Segunda raiz da equação: 2.0\n"
     ]
    }
   ],
   "source": [
    "import math\n",
    "a = int(input('Digite o valor de A: '))\n",
    "b = int(input('Digite o valor de B: '))\n",
    "c = int(input('Digite o valor de C: '))\n",
    "\n",
    "if a == 0:\n",
    "    print('A equação não é do segundo grau')\n",
    "else:\n",
    "    delta = math.pow(b,2) - (4*a*c)\n",
    "    if delta < 0:\n",
    "        print(f'A equação não possui raízes reais. Delta:{delta}')\n",
    "    elif delta == 0:\n",
    "        raiz = ((-1)*b + math.sqrt(delta))/(2*a)\n",
    "        print(f'Equação {a}x² + {b}x + {c}\\nDelta: {delta}\\nRaiz da equação: {raiz}')\n",
    "    elif delta > 0:\n",
    "        raiz1 = ((-1)*b + math.sqrt(delta))/(2*a)\n",
    "        raiz2 = ((-1)*b - math.sqrt(delta))/(2*a)\n",
    "        print(f'Equação {a}x² + {b}x + {c}\\nDelta: {delta}\\nPrimeira raiz da equação: {raiz1}\\nSegunda raiz da equação: {raiz2}')\n",
    "        \n",
    "        \n",
    "    "
   ]
  },
  {
   "cell_type": "markdown",
   "metadata": {},
   "source": [
    "10. Faça um Programa para um caixa eletrônico. O programa deverá perguntar ao usuário a valor do saque e depois informar quantas notas de cada valor serão fornecidas. As notas disponíveis serão as de 1, 5, 10, 50 e 100 reais. O valor mínimo é de 10 reais e o máximo de 600 reais. O programa não deve se preocupar com a quantidade de notas existentes na máquina.\n",
    "- Exemplo 1: Para sacar a quantia de 256 reais, o programa fornece duas notas de 100, uma nota de 50, uma nota de 5 e uma nota de 1;\n",
    "- Exemplo 2: Para sacar a quantia de 399 reais, o programa fornece três notas de 100, uma nota de 50, quatro notas de 10, uma nota de 5 e quatro notas de 1."
   ]
  },
  {
   "cell_type": "code",
   "execution_count": 24,
   "metadata": {},
   "outputs": [
    {
     "name": "stdout",
     "output_type": "stream",
     "text": [
      "Digite o valor em que deseja sacar: 277\n",
      "Quantidade de notas de 100: 2\n",
      "Quantidade de notas de 50: 1\n",
      "Quantidade de notas de 10: 2\n",
      "Quantidade de notas de 5: 1\n",
      "Quantidade de notas de 1: 2\n"
     ]
    }
   ],
   "source": [
    "valor = int(input('Digite o valor em que deseja sacar: '))\n",
    "\n",
    "if valor >= 10 and valor <=600:\n",
    "    notas100= valor // 100 \n",
    "    valor = valor - (notas100 * 100)\n",
    "    print(f'Quantidade de notas de 100: {notas100}')\n",
    "    \n",
    "    notas50 = valor // 50\n",
    "    valor = valor - (notas50 * 50)\n",
    "    print(f'Quantidade de notas de 50: {notas50}')\n",
    "    \n",
    "    notas10 = valor // 10\n",
    "    valor = valor - (notas10 * 10)\n",
    "    print(f'Quantidade de notas de 10: {notas10}')\n",
    "    \n",
    "    notas5  = valor // 5\n",
    "    valor = valor - (notas5 * 5)\n",
    "    print(f'Quantidade de notas de 5: {notas5}')\n",
    "    \n",
    "    notas1  = valor // 1\n",
    "    print(f'Quantidade de notas de 1: {notas1}')\n",
    "\n",
    "else:\n",
    "    print('Não é possível sacar esse valor')"
   ]
  },
  {
   "cell_type": "markdown",
   "metadata": {},
   "source": [
    "11- Faça um programa que faça 5 perguntas para uma pessoa sobre um crime. As perguntas são:\n",
    "\"Telefonou para a vítima?\"\n",
    "\"Esteve no local do crime?\"\n",
    "\"Mora perto da vítima?\"\n",
    "\"Devia para a vítima?\"\n",
    "\"Já trabalhou com a vítima?\"\n",
    "O programa deve no final emitir uma classificação sobre a participação da pessoa no crime. Se a pessoa responder positivamente a 2 questões ela deve ser classificada como \"Suspeita\", entre 3 e 4 como \"Cúmplice\" e 5 como \"Assassino\". Caso contrário, ele será classificado como \"Inocente\"."
   ]
  },
  {
   "cell_type": "code",
   "execution_count": 12,
   "metadata": {},
   "outputs": [
    {
     "name": "stdout",
     "output_type": "stream",
     "text": [
      "Telefonou para a vítima?n\n",
      "Esteve no local do crime?n\n",
      "Mora perto da vítima?n\n",
      "Devia para a vítima?n\n",
      "Já trabalhou com a vítima?n\n",
      "Inocente\n"
     ]
    }
   ],
   "source": [
    "perguntas = [ \n",
    "    \"Telefonou para a vítima?\" ,\n",
    "    \"Esteve no local do crime?\" ,\n",
    "    \"Mora perto da vítima?\" ,\n",
    "    \"Devia para a vítima?\" ,\n",
    "    \"Já trabalhou com a vítima?\" \n",
    "]\n",
    "\n",
    "resposta = 0\n",
    "for resp in perguntas:\n",
    "      resposta += (input(resp) == \"s\")\n",
    "    \n",
    "if resposta == 2:\n",
    "    print(\"Suspeito\")\n",
    "elif resposta == 3 or resposta == 4:\n",
    "    print(\"Cúmplice\")\n",
    "elif resposta ==5:\n",
    "    print(\"Assassino\")\n",
    "else:\n",
    "    print(\"Inocente\")"
   ]
  },
  {
   "cell_type": "markdown",
   "metadata": {},
   "source": [
    "12. Uma fruteira está vendendo frutas com a seguinte tabela de preços:\n",
    "Até 5 Kg Acima de 5 Kg\n",
    "Morango R$ 2,50 por Kg R$ 2,20 por Kg\n",
    "Maçã R$ 1,80 por Kg R$ 1,50 por Kg\n",
    "Se o cliente comprar mais de 8 Kg em frutas ou o valor total da compra ultrapassar R$ 25,00, receberá ainda um desconto de 10% sobre este total. Escreva um algoritmo para ler a quantidade (em Kg) de morangos e a quantidade (em Kg) de maças adquiridas e escreva o valor a ser pago pelo cliente."
   ]
  },
  {
   "cell_type": "code",
   "execution_count": 9,
   "metadata": {},
   "outputs": [
    {
     "name": "stdout",
     "output_type": "stream",
     "text": [
      "Quantos kg de morango ?5\n",
      "Quantos kg de maçãs ?8\n",
      "Valor total da compra é R$ 20.70\n"
     ]
    }
   ],
   "source": [
    "morango = float(input(\"Quantos kg de morango ?\"))\n",
    "macas = float(input(\"Quantos kg de maçãs ?\"))\n",
    "\n",
    "if morango <=5 and macas <= 5:\n",
    "    preco_morango = 2.50 * morango\n",
    "    preco_maca = 1.80 * macas\n",
    "else:\n",
    "    preco_morango = 2.20 * morango\n",
    "    preco_maca = 1.50 * macas\n",
    "    \n",
    "\n",
    "if (morango + macas) > 8 or(preco_morango + preco_maca) > 25:\n",
    "     valor_total  = (preco_morango + preco_maca) * 0.9\n",
    "else:\n",
    "    valor_total = preco_maca + preco_morango\n",
    "    \n",
    "print('Valor total da compra é R$ %.2f' % (valor_total))\n",
    "    \n",
    "    "
   ]
  },
  {
   "cell_type": "markdown",
   "metadata": {},
   "source": [
    "13. Faça um programa que peça uma nota, entre zero e dez. Mostre uma mensagem caso o valor seja inválido e continue pedindo até que o usuário informe um valor válido."
   ]
  },
  {
   "cell_type": "code",
   "execution_count": 11,
   "metadata": {},
   "outputs": [
    {
     "name": "stdout",
     "output_type": "stream",
     "text": [
      "Digite uma nota entre 0 e 1025\n",
      "Nota inválida\n",
      "Digite uma nota entre 0 e 1036\n",
      "Nota inválida\n",
      "Digite uma nota entre 0 e 1036\n",
      "Nota inválida\n",
      "Digite uma nota entre 0 e 109\n",
      "Valor válido 9\n"
     ]
    }
   ],
   "source": [
    "while True:\n",
    "    \n",
    "    nota = int(input('Digite uma nota entre 0 e 10'))\n",
    "    if nota >= 0 and nota <= 10:\n",
    "        break\n",
    "    else:\n",
    "        print('Nota inválida')\n",
    "\n",
    "print(f'Valor válido {nota}')"
   ]
  },
  {
   "cell_type": "markdown",
   "metadata": {},
   "source": [
    "13. Faça um programa que leia e valide as seguintes informações:\n",
    "Nome: maior que 3 caracteres;\n",
    "Idade: entre 0 e 150;\n",
    "Salário: maior que zero;\n",
    "Sexo: 'f' ou 'm';\n",
    "Estado Civil: 's', 'c', 'v', 'd'"
   ]
  },
  {
   "cell_type": "code",
   "execution_count": 2,
   "metadata": {},
   "outputs": [
    {
     "name": "stdout",
     "output_type": "stream",
     "text": [
      "Digite seu nome: maria\n",
      "Digite sua idade: 18000\n",
      "Digite seu salario: 1200\n",
      "Digite seu sexo: f ou mf\n",
      "Estado cívil:\n",
      "s - solteiro\n",
      "c - casado\n",
      "v - víuvo\n",
      "d - divorciado\n",
      "d\n",
      "Idade inválida\n",
      "Digite seu nome: marina\n",
      "Digite sua idade: 89\n",
      "Digite seu salario: 1200\n",
      "Digite seu sexo: f ou mf\n",
      "Estado cívil:\n",
      "s - solteiro\n",
      "c - casado\n",
      "v - víuvo\n",
      "d - divorciado\n",
      "c\n",
      "Informações validadas\n",
      "Nome:marina\n",
      "Idade:89\n",
      "Salário:1200\n",
      "Sexo:f\n",
      "Estado cívil:c\n"
     ]
    }
   ],
   "source": [
    "while True:\n",
    "    nome = input('Digite seu nome: ')\n",
    "    idade = int(input('Digite sua idade: '))\n",
    "    salario = int(input('Digite seu salario: '))\n",
    "    sexo = input('Digite seu sexo: f ou m')\n",
    "    ecivil = input('Estado cívil:\\ns - solteiro\\nc - casado\\nv - víuvo\\nd - divorciado\\n')\n",
    "    \n",
    "    if len(nome) > 3:\n",
    "        if idade >0 and idade <=150:\n",
    "            if salario >0:\n",
    "                if sexo == 'm' or sexo == 'f':\n",
    "                    if ecivil == 's' or ecivil == 'c' or ecivil == 'v' or ecivil == 'd':\n",
    "                        print(f'Informações validadas\\nNome:{nome}\\nIdade:{idade}\\nSalário:{salario}\\nSexo:{sexo}\\nEstado cívil:{ecivil}')\n",
    "                        break\n",
    "                    else:\n",
    "                        print('Estado cívil inválido\\n Digite:\\ns - solteiro\\n c - casado\\n v - víuvo\\n d - divorciado')\n",
    "                else:\n",
    "                    print('Sexo inválido')\n",
    "            else:\n",
    "                print('Salário inválido')\n",
    "        else:\n",
    "            print('Idade inválida')\n",
    "    else:\n",
    "        print('Nome inválido')\n",
    "                        "
   ]
  },
  {
   "cell_type": "markdown",
   "metadata": {},
   "source": [
    "14. Faça um programa que leia 5 números e informe o maior número"
   ]
  },
  {
   "cell_type": "code",
   "execution_count": 6,
   "metadata": {},
   "outputs": [
    {
     "name": "stdout",
     "output_type": "stream",
     "text": [
      "Digite o 1º número:567\n",
      "Digite o 2º número: 1\n",
      "Digite o 3º número: 56\n",
      "Digite o 4º número: 78\n",
      "Digite o 5º número: 12\n",
      "O maior número é:567\n"
     ]
    }
   ],
   "source": [
    "maior  =  int(input(\"Digite o 1º número:\"))\n",
    "for num in range(2,6):\n",
    "    x = int(input(f\"Digite o {num}º número: \"))\n",
    "    if x > maior:\n",
    "        maior = x\n",
    "print(f\"O maior número é:{maior}\")"
   ]
  },
  {
   "cell_type": "markdown",
   "metadata": {},
   "source": [
    "15. Faça um programa que leia 5 números e informe a soma e a média dos números."
   ]
  },
  {
   "cell_type": "code",
   "execution_count": 3,
   "metadata": {},
   "outputs": [
    {
     "name": "stdout",
     "output_type": "stream",
     "text": [
      "Digite o 1º número: 4\n",
      "Digite o 2º número: 5\n",
      "Digite o 3º número: 1\n",
      "Digite o 4º número: 1\n",
      "Digite o 5º número: 1\n",
      "A soma dos números é:12\n",
      "A média é:2.4\n"
     ]
    }
   ],
   "source": [
    "\n",
    "soma = 0\n",
    "for num in range(1,6):\n",
    "    n = int(input(f\"Digite o {num}º número: \"))\n",
    "    soma += n\n",
    "print(f\"A soma dos números é:{soma}\")\n",
    "print(f'A média é:{soma/5}')"
   ]
  },
  {
   "cell_type": "markdown",
   "metadata": {},
   "source": [
    "16. Faça um programa que imprima na tela apenas os números ímpares entre 1 e 50"
   ]
  },
  {
   "cell_type": "code",
   "execution_count": 13,
   "metadata": {},
   "outputs": [
    {
     "name": "stdout",
     "output_type": "stream",
     "text": [
      "1\n",
      "3\n",
      "5\n",
      "7\n",
      "9\n",
      "11\n",
      "13\n",
      "15\n",
      "17\n",
      "19\n",
      "21\n",
      "23\n",
      "25\n",
      "27\n",
      "29\n",
      "31\n",
      "33\n",
      "35\n",
      "37\n",
      "39\n",
      "41\n",
      "43\n",
      "45\n",
      "47\n",
      "49\n"
     ]
    }
   ],
   "source": [
    "\n",
    "for n in range(1,51) :\n",
    "    if n % 2 !=0:\n",
    "        print(n)\n",
    "\n",
    "    "
   ]
  },
  {
   "cell_type": "markdown",
   "metadata": {},
   "source": [
    "17. Desenvolva um gerador de tabuada, capaz de gerar a tabuada de qualquer número inteiro entre 1 a 10. O usuário deve informar de qual numero ele deseja ver a tabuada. A saída deve ser conforme o exemplo abaixo:\n",
    "Tabuada de 5:\n",
    "5 X 1 = 5\n",
    "5 X 2 = 10\n",
    "...\n",
    "5 X 10 = 50"
   ]
  },
  {
   "cell_type": "code",
   "execution_count": 16,
   "metadata": {},
   "outputs": [
    {
     "name": "stdout",
     "output_type": "stream",
     "text": [
      "Digite o número em que deseja ver a tabuada80\n",
      "80 x 1 = 80\n",
      "80 x 2 = 160\n",
      "80 x 3 = 240\n",
      "80 x 4 = 320\n",
      "80 x 5 = 400\n",
      "80 x 6 = 480\n",
      "80 x 7 = 560\n",
      "80 x 8 = 640\n",
      "80 x 9 = 720\n",
      "80 x 10 = 800\n"
     ]
    }
   ],
   "source": [
    "numero = int(input('Digite o número em que deseja ver a tabuada'))\n",
    "for num in range(1,11):\n",
    "    print(f'{numero} x {num} = {numero * num}')\n",
    "    "
   ]
  },
  {
   "cell_type": "markdown",
   "metadata": {},
   "source": [
    "18. A série de Fibonacci é formada pela seqüência 1,1,2,3,5,8,13,21,34,55,... Faça um programa capaz de gerar a série até o n−ésimo termo"
   ]
  },
  {
   "cell_type": "code",
   "execution_count": 20,
   "metadata": {},
   "outputs": [
    {
     "name": "stdout",
     "output_type": "stream",
     "text": [
      "Digite até qual termo deseja ir? 8\n",
      "0\n",
      "1\n",
      "1\n",
      "2\n",
      "3\n",
      "5\n",
      "8\n",
      "13\n"
     ]
    }
   ],
   "source": [
    "a = 0\n",
    "b = 1\n",
    "n = int(input(\"Digite até qual termo deseja ir? \"))\n",
    "for i in range(n):\n",
    "    print(a)\n",
    "    aux = b\n",
    "    b = a + b\n",
    "    a = aux"
   ]
  },
  {
   "cell_type": "markdown",
   "metadata": {},
   "source": [
    "19. Faça um programa que calcule o fatorial de um número inteiro fornecido pelo usuário. Ex.: 5!=5.4.3.2.1=120"
   ]
  },
  {
   "cell_type": "code",
   "execution_count": 23,
   "metadata": {},
   "outputs": [
    {
     "name": "stdout",
     "output_type": "stream",
     "text": [
      "Digite um número para saber o seu fatorial: 5\n",
      "É 120\n"
     ]
    }
   ],
   "source": [
    "fatorial = int(input('Digite um número para saber o seu fatorial: '))\n",
    "for f in range(1, fatorial):\n",
    "    \n",
    "    fatorial = fatorial * f\n",
    "    \n",
    "print(f'É {fatorial}')"
   ]
  },
  {
   "cell_type": "markdown",
   "metadata": {},
   "source": [
    "20. O Sr. Manoel Joaquim possui uma grande loja de artigos de R$ 1,99, com cerca de 10 caixas. Para agilizar o cálculo de quanto cada cliente deve pagar ele desenvolveu um tabela que contém o número de itens que o cliente comprou e ao lado o valor da conta. Desta forma a atendente do caixa precisa apenas contar quantos itens o cliente está levando e olhar na tabela de preços. Você foi contratado para desenvolver o programa que monta esta tabela de preços, que conterá os preços de 1 até 50 produtos, conforme o exemplo abaixo:\n",
    "Lojas Quase Dois - Tabela de preços\n",
    "1 - R$ 1.99\n",
    "2 - R$ 3.98\n",
    "...\n",
    "50 - R$ 99.50\n"
   ]
  },
  {
   "cell_type": "code",
   "execution_count": 24,
   "metadata": {},
   "outputs": [
    {
     "name": "stdout",
     "output_type": "stream",
     "text": [
      "1 - R$ 1.99\n",
      "2 - R$ 3.98\n",
      "3 - R$ 5.97\n",
      "4 - R$ 7.96\n",
      "5 - R$ 9.95\n",
      "6 - R$ 11.94\n",
      "7 - R$ 13.93\n",
      "8 - R$ 15.92\n",
      "9 - R$ 17.91\n",
      "10 - R$ 19.9\n",
      "11 - R$ 21.89\n",
      "12 - R$ 23.88\n",
      "13 - R$ 25.87\n",
      "14 - R$ 27.86\n",
      "15 - R$ 29.85\n",
      "16 - R$ 31.84\n",
      "17 - R$ 33.83\n",
      "18 - R$ 35.82\n",
      "19 - R$ 37.81\n",
      "20 - R$ 39.8\n",
      "21 - R$ 41.79\n",
      "22 - R$ 43.78\n",
      "23 - R$ 45.77\n",
      "24 - R$ 47.76\n",
      "25 - R$ 49.75\n",
      "26 - R$ 51.74\n",
      "27 - R$ 53.73\n",
      "28 - R$ 55.72\n",
      "29 - R$ 57.71\n",
      "30 - R$ 59.7\n",
      "31 - R$ 61.69\n",
      "32 - R$ 63.68\n",
      "33 - R$ 65.67\n",
      "34 - R$ 67.66\n",
      "35 - R$ 69.65\n",
      "36 - R$ 71.64\n",
      "37 - R$ 73.63\n",
      "38 - R$ 75.62\n",
      "39 - R$ 77.61\n",
      "40 - R$ 79.6\n",
      "41 - R$ 81.59\n",
      "42 - R$ 83.58\n",
      "43 - R$ 85.57\n",
      "44 - R$ 87.56\n",
      "45 - R$ 89.55\n",
      "46 - R$ 91.54\n",
      "47 - R$ 93.53\n",
      "48 - R$ 95.52\n",
      "49 - R$ 97.51\n",
      "50 - R$ 99.5\n"
     ]
    }
   ],
   "source": [
    "for i in range(1, 51):\n",
    "    preco = i * 1.99\n",
    "    print(f\"{num} - R$ {preco}\")"
   ]
  },
  {
   "cell_type": "markdown",
   "metadata": {},
   "source": [
    "21. O Sr. Manoel Joaquim acaba de adquirir uma panificadora e pretende implantar a metodologia da tabelinha, que já é um sucesso na sua loja de 1,99. Você foi contratado para desenvolver o programa que monta a tabela de preços de pães, de\n",
    "1 até 50 pães, a partir do preço do pão informado pelo usuário, conforme o exemplo abaixo:\n",
    "Preço do pão: R$ 0.18\n",
    "Panificadora Pão de Ontem - Tabela de preços\n",
    "1 - R$ 0.18\n",
    "2 - R$ 0.36\n",
    "...\n",
    "50 - R$ 9.00\n"
   ]
  },
  {
   "cell_type": "code",
   "execution_count": 37,
   "metadata": {},
   "outputs": [
    {
     "name": "stdout",
     "output_type": "stream",
     "text": [
      "Digite o valor do pão:0.35\n",
      " 1 - R$ 0.35\n",
      " 2 - R$ 0.70\n",
      " 3 - R$ 1.05\n",
      " 4 - R$ 1.40\n",
      " 5 - R$ 1.75\n",
      " 6 - R$ 2.10\n",
      " 7 - R$ 2.45\n",
      " 8 - R$ 2.80\n",
      " 9 - R$ 3.15\n",
      " 10 - R$ 3.50\n",
      " 11 - R$ 3.85\n",
      " 12 - R$ 4.20\n",
      " 13 - R$ 4.55\n",
      " 14 - R$ 4.90\n",
      " 15 - R$ 5.25\n",
      " 16 - R$ 5.60\n",
      " 17 - R$ 5.95\n",
      " 18 - R$ 6.30\n",
      " 19 - R$ 6.65\n",
      " 20 - R$ 7.00\n",
      " 21 - R$ 7.35\n",
      " 22 - R$ 7.70\n",
      " 23 - R$ 8.05\n",
      " 24 - R$ 8.40\n",
      " 25 - R$ 8.75\n",
      " 26 - R$ 9.10\n",
      " 27 - R$ 9.45\n",
      " 28 - R$ 9.80\n",
      " 29 - R$ 10.15\n",
      " 30 - R$ 10.50\n",
      " 31 - R$ 10.85\n",
      " 32 - R$ 11.20\n",
      " 33 - R$ 11.55\n",
      " 34 - R$ 11.90\n",
      " 35 - R$ 12.25\n",
      " 36 - R$ 12.60\n",
      " 37 - R$ 12.95\n",
      " 38 - R$ 13.30\n",
      " 39 - R$ 13.65\n",
      " 40 - R$ 14.00\n",
      " 41 - R$ 14.35\n",
      " 42 - R$ 14.70\n",
      " 43 - R$ 15.05\n",
      " 44 - R$ 15.40\n",
      " 45 - R$ 15.75\n",
      " 46 - R$ 16.10\n",
      " 47 - R$ 16.45\n",
      " 48 - R$ 16.80\n",
      " 49 - R$ 17.15\n",
      " 50 - R$ 17.50\n"
     ]
    }
   ],
   "source": [
    "pao = float(input('Digite o valor do pão:'))\n",
    "i =1\n",
    "while i <= 50:\n",
    "    preco = i * pao\n",
    "    print(\" %.0f - R$ %.2f\" % (i, preco))\n",
    "    i += 1"
   ]
  },
  {
   "cell_type": "markdown",
   "metadata": {},
   "source": [
    "22. O Sr. Manoel Joaquim expandiu seus negócios para além dos negócios de 1,99 e agora possui uma loja de conveniências. Faça um programa que implemente uma caixa registradora rudimentar. O programa deverá receber um número desconhecido de valores referentes aos preços das mercadorias. Um valor zero deve ser informado pelo operador para indicar o final da compra. O programa deve então mostrar o total da compra e perguntar o valor em dinheiro que o cliente forneceu, para então calcular e mostrar o valor do troco. Após esta operação, o programa deverá voltar ao ponto inicial, para registrar a próxima compra. A saída deve ser conforme o exemplo abaixo:\n",
    "Lojas Tabajara\n",
    "Produto 1: R$ 2.20\n",
    "Produto 2: R$ 5.80\n",
    "Produto 3: R$ 0\n",
    "Total: R$ 9.00\n",
    "Dinheiro: R$ 20.00\n",
    "Troco: R$ 11.00"
   ]
  },
  {
   "cell_type": "code",
   "execution_count": 1,
   "metadata": {},
   "outputs": [
    {
     "name": "stdout",
     "output_type": "stream",
     "text": [
      "Insira o preço do item (Digite '0' para finalizar a compra): 8\n",
      "Produto 1: R$ 8.0\n",
      "Insira o preço do item (Digite '0' para finalizar a compra): 4\n",
      "Produto 2: R$ 4.0\n",
      "Insira o preço do item (Digite '0' para finalizar a compra): 2\n",
      "Produto 3: R$ 2.0\n",
      "Insira o preço do item (Digite '0' para finalizar a compra): 0\n",
      "Total: R$ 14.0\n",
      "Insira o valor a ser pago: 20\n",
      "Troco: R$  6.0\n"
     ]
    }
   ],
   "source": [
    "total = 0\n",
    "preco = -1\n",
    "i = 0\n",
    "while preco != 0:\n",
    "    preco = float(input(\"Insira o preço do item (Digite '0' para finalizar a compra): \"))\n",
    "    total += preco\n",
    "    i += 1\n",
    "    if preco == 0:\n",
    "        print(f\"Total: R$ {total}\")\n",
    "        pago = float(input(\"Insira o valor a ser pago: \"))\n",
    "        print(\"Troco: R$ \", pago - total)\n",
    "    else:\n",
    "        print(f\"Produto {i}: R$ {preco}\")"
   ]
  },
  {
   "cell_type": "markdown",
   "metadata": {},
   "source": [
    "23. Foi feita uma estatística em cinco cidades brasileiras para coletar dados sobre acidentes de trânsito. Foram obtidos os seguintes dados:\n",
    "- Código da cidade;\n",
    "- Número de veículos de passeio (em 1999);\n",
    "- Número de acidentes de trânsito com vítimas (em 1999). Deseja-se saber:\n",
    "- Qual o maior e menor índice de acidentes de transito e a que cidade pertence;\n",
    "- Qual a média de veículos nas cinco cidades juntas;\n",
    "- Qual a média de acidentes de trânsito nas cidades com menos de 2.000 veículos depasseio."
   ]
  },
  {
   "cell_type": "code",
   "execution_count": 4,
   "metadata": {},
   "outputs": [
    {
     "name": "stdout",
     "output_type": "stream",
     "text": [
      "Maior índice e a cidade:  [6753, 12]\n",
      "Menor índice e a cidade:  [2, 'cidade3']\n",
      "Média de veículos nas cinco cidades juntas:  5471.6\n",
      "Média de acidentes de trânsito nas cidades com menos de 2.000 veículos de passeio:  2.5\n"
     ]
    }
   ],
   "source": [
    "cidades = {\n",
    "    \"cidade0\": [6753, 12],\n",
    "    \"cidade1\": [7503, 23],\n",
    "    \"cidade2\": [607, 3],\n",
    "    \"cidade3\": [450, 2],\n",
    "    \"cidade4\": [12045, 47]\n",
    "}\n",
    "\n",
    "menorIndice = [cidades[\"cidade0\"][0], cidades[\"cidade0\"][1]]\n",
    "maiorIndice = [cidades[\"cidade0\"][0], cidades[\"cidade0\"][1]]\n",
    "somaVeiculos = 0\n",
    "somaAcidentes = 0\n",
    "contCidades = 0\n",
    "for cod in cidades:\n",
    "    somaVeiculos += cidades[cod][0]\n",
    "    if cidades[cod][0] < 2000:\n",
    "        somaAcidentes += cidades[cod][1]\n",
    "        contCidades += 1\n",
    "    if cidades[cod][1] > maiorIndice[0]:\n",
    "        maiorIndice[0] = cidades[cod][1]\n",
    "        maiorIndice[1] = cod\n",
    "    if cidades[cod][1] < menorIndice[0]:\n",
    "        menorIndice[0] = cidades[cod][1]\n",
    "        menorIndice[1] = cod\n",
    "        \n",
    "    \n",
    "mediaVeiculos = somaVeiculos / len(cidades.keys())\n",
    "mediaAcidentes = somaAcidentes / contCidades\n",
    "\n",
    "print(\"Maior índice e a cidade: \", maiorIndice)\n",
    "print(\"Menor índice e a cidade: \", menorIndice)\n",
    "print(\"Média de veículos nas cinco cidades juntas: \", mediaVeiculos)\n",
    "print(\"Média de acidentes de trânsito nas cidades com menos de 2.000 veículos de passeio: \", mediaAcidentes)"
   ]
  },
  {
   "cell_type": "markdown",
   "metadata": {},
   "source": [
    "24. Faça um programa que receba o valor de uma dívida e mostre uma tabela com os seguintes dados: valor da dívida, valor dos juros, quantidade de parcelas e valor da parcela. Os juros e a quantidade de parcelas seguem a tabela abaixo:\n",
    "Quantidade de Parcelas % de Juros sobre o valor inicial da dívida\n",
    "1 0\n",
    "3 10\n",
    "6 15\n",
    "9 20\n",
    "12 25\n",
    "Exemplo de saída do programa:\n",
    "Valor da Dívida Valor dos Juros Quantidade de Parcelas Valor da Parcela\n",
    "R$ 1.000,00 0 1 R$ 1.000,00\n",
    "R$ 1.100,00 100 3 R$ 366,00\n",
    "R$ 1.150,00 150 6 R$ 191,67"
   ]
  },
  {
   "cell_type": "code",
   "execution_count": 5,
   "metadata": {},
   "outputs": [
    {
     "name": "stdout",
     "output_type": "stream",
     "text": [
      "Insira o valor da dívida: 2500\n",
      "Dívida \t Valor Juros \t Qtde Parcelas \t Valor da Parcela\n",
      "R$ 2500.0 \t 0.0 \t 1 \t R$ 2500.00\n",
      "R$ 2750.0 \t 250.0 \t 3 \t R$ 916.67\n",
      "R$ 2875.0 \t 375.0 \t 6 \t R$ 479.17\n",
      "R$ 3000.0 \t 500.0 \t 9 \t R$ 333.33\n",
      "R$ 3125.0 \t 625.0 \t 12 \t R$ 260.42\n"
     ]
    }
   ],
   "source": [
    "dividaInicial = float(input(\"Insira o valor da dívida: \"))\n",
    "print(\"Dívida \\t Valor Juros \\t Qtde Parcelas \\t Valor da Parcela\")\n",
    "for i in range(0, 5):\n",
    "    if i == 0:\n",
    "        juros = 0\n",
    "    elif i == 1:\n",
    "        juros = 10\n",
    "    else:\n",
    "        juros += 5\n",
    "    valorJuros = dividaInicial * (juros / 100)\n",
    "    divida = dividaInicial + valorJuros\n",
    "    if i == 0:\n",
    "        qtdeParc = 1\n",
    "    else:\n",
    "        qtdeParc = i * 3\n",
    "    if qtdeParc != 0:\n",
    "        valorParcela = divida / qtdeParc\n",
    "    else:\n",
    "        valorParcela = divida\n",
    "    print(f\"R$ {divida} \\t {valorJuros} \\t {qtdeParc} \\t R$ %.2f\"%(valorParcela))"
   ]
  },
  {
   "cell_type": "markdown",
   "metadata": {},
   "source": [
    "25. Faça um programa que mostre os n termos da Série a seguir:\n",
    " S = 1/1 + 2/3 + 3/5 + 4/7 + 5/9 + ... + n/m.\n",
    "Imprima no final a soma da série."
   ]
  },
  {
   "cell_type": "code",
   "execution_count": 8,
   "metadata": {},
   "outputs": [
    {
     "name": "stdout",
     "output_type": "stream",
     "text": [
      "Insira a quantidade de termos desejada: 5\n",
      "S = 1/1 + 2/3 + 3/5 + 4/7 + 5/9\n",
      "Soma da série: 3.39\n"
     ]
    }
   ],
   "source": [
    "termo = int(input('Insira a quantidade de termos desejada: '))\n",
    "\n",
    "soma = \"S = \"\n",
    "s = 0\n",
    "m = 1\n",
    "for n in range(1, termo + 1):\n",
    "    s += n / m\n",
    "    soma += str(n) + \"/\" + str(m)\n",
    "    if n != termo:\n",
    "        soma += \" + \"\n",
    "    m += 2\n",
    "\n",
    "print(somaStr)\n",
    "print('Soma da série: %.2f' % s)"
   ]
  },
  {
   "cell_type": "code",
   "execution_count": null,
   "metadata": {},
   "outputs": [],
   "source": []
  }
 ],
 "metadata": {
  "kernelspec": {
   "display_name": "Python 3",
   "language": "python",
   "name": "python3"
  },
  "language_info": {
   "codemirror_mode": {
    "name": "ipython",
    "version": 3
   },
   "file_extension": ".py",
   "mimetype": "text/x-python",
   "name": "python",
   "nbconvert_exporter": "python",
   "pygments_lexer": "ipython3",
   "version": "3.7.1"
  }
 },
 "nbformat": 4,
 "nbformat_minor": 2
}
