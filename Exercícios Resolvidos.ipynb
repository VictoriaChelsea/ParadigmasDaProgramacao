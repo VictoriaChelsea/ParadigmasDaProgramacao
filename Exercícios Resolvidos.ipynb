{
 "cells": [
  {
   "cell_type": "markdown",
   "metadata": {},
   "source": [
    "1 Faça um Programa que peça o raio de um círculo, calcule e mostre sua área."
   ]
  },
  {
   "cell_type": "code",
   "execution_count": 5,
   "metadata": {},
   "outputs": [
    {
     "name": "stdout",
     "output_type": "stream",
     "text": [
      "Digite o raio5\n",
      "A área do círculo de raio 5 é 7.9e+01\n"
     ]
    }
   ],
   "source": [
    "import math\n",
    "raio = int (input (\"Digite o raio\"))\n",
    "#type (raio)\n",
    "area = math.pi * (raio**2)\n",
    "print (f'A área do círculo de raio {raio} é {area:{5}.{2}}')"
   ]
  },
  {
   "cell_type": "markdown",
   "metadata": {},
   "source": [
    "2 Faça um Programa que calcule a área de um quadrado, em seguida mostre o dobro\n",
    "desta área para o usuário."
   ]
  },
  {
   "cell_type": "code",
   "execution_count": 3,
   "metadata": {},
   "outputs": [
    {
     "name": "stdout",
     "output_type": "stream",
     "text": [
      "Digite o lado do quadrado, para saber a sua área3\n",
      "A área do quadrado é 9.00m², e o dobro da área é 18.00m²\n"
     ]
    }
   ],
   "source": [
    "lado_quadrado = float(input(\"Digite o lado do quadrado, para saber a sua área\"))\n",
    "area_quadrado = lado_quadrado**2\n",
    "dobro_area = area_quadrado * 2\n",
    "print('A área do quadrado é %.2fm², e o dobro da área é %.2fm²' % (area_quadrado, dobro_area))"
   ]
  },
  {
   "cell_type": "markdown",
   "metadata": {},
   "source": [
    "3 Faça um Programa que pergunte quanto você ganha por hora e o número de horas\n",
    "trabalhadas no mês. Calcule e mostre o total do seu salário no referido mês."
   ]
  },
  {
   "cell_type": "code",
   "execution_count": 9,
   "metadata": {},
   "outputs": [
    {
     "name": "stdout",
     "output_type": "stream",
     "text": [
      "Digite o valor da hora10\n",
      "Digite a quantidade de horas trabalhadas15\n",
      "Com valor 10.00 e tendo trabalhado 15.00 horas, você ganhará 150.00\n",
      " \n"
     ]
    }
   ],
   "source": [
    "valor_hora = float(input (\"Digite o valor da hora\"))\n",
    "numero_horas = float(input(\"Digite a quantidade de horas trabalhadas\"))\n",
    "total = valor_hora * numero_horas\n",
    "print ('Com valor %.2f e tendo trabalhado %.2f horas, você ganhará %.2f\\n ' % (valor_hora, numero_horas, total))"
   ]
  },
  {
   "cell_type": "markdown",
   "metadata": {},
   "source": [
    "4 Faça um Programa que peça a temperatura em graus Farenheit, transforme e\n",
    "mostre a temperatura em graus Celsius. C = (5 * (F-32) / 9)."
   ]
  },
  {
   "cell_type": "code",
   "execution_count": 3,
   "metadata": {},
   "outputs": [
    {
     "name": "stdout",
     "output_type": "stream",
     "text": [
      "Digite a temperatura em graus Farenheit50\n",
      " 50.00 Graus Farenheit é igual a 10.00 Graus Celsius\n"
     ]
    }
   ],
   "source": [
    "graus_f = float(input(\"Digite a temperatura em graus Farenheit\"))\n",
    "graus_c =(5 * (graus_f-32) / 9)\n",
    "print(\" %.2f Graus Farenheit é igual a %.2f Graus Celsius\" % (graus_f, graus_c))"
   ]
  },
  {
   "cell_type": "markdown",
   "metadata": {},
   "source": [
    "5 Faça um Programa que peça a temperatura em graus Celsius, transforme e mostre\n",
    "em graus Farenheit."
   ]
  },
  {
   "cell_type": "code",
   "execution_count": 8,
   "metadata": {},
   "outputs": [
    {
     "name": "stdout",
     "output_type": "stream",
     "text": [
      "Digite a temperatura em graus Celsius10\n",
      " 10.00 Graus Celsius é igual a 50.00 Graus Farenheit\n"
     ]
    }
   ],
   "source": [
    "graus_c = float(input(\"Digite a temperatura em graus Celsius\"))\n",
    "graus_f =(graus_c * 9/5) + 32 \n",
    "print(\" %.2f Graus Celsius é igual a %.2f Graus Farenheit\" % (graus_c, graus_f))"
   ]
  },
  {
   "cell_type": "markdown",
   "metadata": {},
   "source": [
    "6 Faça um Programa que peça 2 números inteiros e um número real. Calcule e\n",
    "mostre:\n",
    "- o produto do dobro do primeiro com metade do segundo .\n",
    "- a soma do triplo do primeiro com o terceiro.\n",
    "- o terceiro elevado ao cubo."
   ]
  },
  {
   "cell_type": "code",
   "execution_count": 14,
   "metadata": {},
   "outputs": [
    {
     "name": "stdout",
     "output_type": "stream",
     "text": [
      "Digite um número2\n",
      "Digite outro número4\n",
      "Digite outro número3\n",
      "O produto do dobro do primeiro com metade do segundo é: 8\n",
      "A soma do triplo do primeiro com o terceiro é: 9\n",
      "O terceiro elevado ao cubo é 27\n"
     ]
    }
   ],
   "source": [
    "numero1 = int(input(\"Digite um número\"))\n",
    "numero2 = int(input(\"Digite outro número\"))\n",
    "numero3 = float(input(\"Digite outro número\"))\n",
    "result1= (numero1 * 2) * (numero2/2)\n",
    "result2 = (numero1 *3) + numero3\n",
    "result3 = numero3 ** 3\n",
    "print('O produto do dobro do primeiro com metade do segundo é: %.f' % (result1))\n",
    "print('A soma do triplo do primeiro com o terceiro é: %.f' % (result2))\n",
    "print ('O terceiro elevado ao cubo é %.f' % (result3))"
   ]
  },
  {
   "cell_type": "markdown",
   "metadata": {},
   "source": [
    "7 João Papo-de-Pescador, homem de bem, comprou um microcomputador para\n",
    "controlar o rendimento diário de seu trabalho. Toda vez que ele traz um peso de\n",
    "peixes maior que o estabelecido pelo regulamento de pesca do estado de São Paulo\n",
    "(50 quilos) deve pagar uma multa de R$ 4,00 por quilo excedente. João precisa que\n",
    "você faça um programa que leia a variável peso (peso de peixes) e verifique se há\n",
    "excesso. Se houver, gravar na variável excesso e na variável multa o valor da multa\n",
    "que João deverá pagar. Caso contrário mostrar tais variáveis com o conteúdo ZERO."
   ]
  },
  {
   "cell_type": "code",
   "execution_count": 10,
   "metadata": {},
   "outputs": [
    {
     "name": "stdout",
     "output_type": "stream",
     "text": [
      "Digite o peso de peixes70\n",
      "Excesso: 20.0, Multa: 80.0\n"
     ]
    }
   ],
   "source": [
    "peso_peixes = float(input(\"Digite o peso de peixes\"))\n",
    "excesso = 0\n",
    "multa =0\n",
    "if peso_peixes > 50:\n",
    "    excesso = peso_peixes - 50\n",
    "    multa = 4 * excesso\n",
    "print ('Excesso: {}, Multa: {}'.format(excesso, multa))"
   ]
  },
  {
   "cell_type": "markdown",
   "metadata": {},
   "source": [
    "8 Faça um Programa que pergunte quanto você ganha por hora e o número de horas\n",
    "trabalhadas no mês. Calcule e mostre o total do seu salário no referido mês,\n",
    "sabendo-se que são descontados 11% para o Imposto de Renda, 8% para o INSS e 5%\n",
    "para o sindicato, faça um programa que nos dê:\n",
    "- salário bruto.\n",
    "- quanto pagou ao INSS.\n",
    "- quanto pagou ao sindicato.\n",
    "- o salário líquido.\n",
    "- calcule os descontos e o salário líquido, conforme a tabela abaixo:\n",
    " + Salário Bruto : R$\n",
    " - IR (11%) : R$\n",
    " - INSS (8%) : R$\n",
    " - Sindicato ( 5%) : R$\n",
    " = Salário Liquido : R$\n",
    "Obs.: Salário Bruto - Descontos = Salário Líquido."
   ]
  },
  {
   "cell_type": "code",
   "execution_count": 5,
   "metadata": {},
   "outputs": [
    {
     "name": "stdout",
     "output_type": "stream",
     "text": [
      "Digite o valor da hora 10\n",
      "Digite a quantidade de horas trabalhadas no mês 100\n",
      "Com base na informações fornecidas: \n",
      " Salário bruto: R$ 1000.00 \n",
      " Imposto de renda é R$ 110.00 \n",
      " INSS é R$ 80.00 \n",
      " Sindicato é: R$ 50.00 \n",
      " O seu salário líquido é R$ 760.00\n"
     ]
    }
   ],
   "source": [
    "valor_hora = float(input (\"Digite o valor da hora \"))\n",
    "numero_horas = float(input(\"Digite a quantidade de horas trabalhadas no mês \"))\n",
    "salario_bruto = valor_hora * numero_horas\n",
    "pago_ir = salario_bruto * 0.11\n",
    "pago_inss = salario_bruto * 0.08\n",
    "pago_sindicato = salario_bruto * 0.05\n",
    "descontos = pago_ir + pago_inss + pago_sindicato\n",
    "salario_liq = salario_bruto - descontos\n",
    "print(\n",
    "'Com base na informações fornecidas: \\n Salário bruto: R$ %.2f \\n Imposto de renda é R$ %.2f \\n'\n",
    "    ' INSS é R$ %.2f \\n Sindicato é: R$ %.2f \\n O seu salário líquido é R$ %.2f' \n",
    "% (salario_bruto, pago_ir, pago_inss, pago_sindicato, salario_liq))"
   ]
  },
  {
   "cell_type": "markdown",
   "metadata": {},
   "source": [
    "9 Faça um programa que leia 2 strings e informe o conteúdo delas seguido do seu\n",
    "comprimento. Informe também se as duas strings possuem o mesmo comprimento e\n",
    "são iguais ou diferentes no conteúdo.\n",
    "Exemplo:\n",
    "String 1: Brasil Hexa 2018\n",
    "String 2: Brasil! Hexa 2018!\n",
    "Tamanho de \"Brasil Hexa 2018\": 16 caracteres\n",
    "Tamanho de \"Brasil! Hexa 2018!\": 18 caracteres\n",
    "As duas strings são de tamanhos diferentes.\n",
    "As duas strings possuem conteúdo diferente"
   ]
  },
  {
   "cell_type": "code",
   "execution_count": 13,
   "metadata": {},
   "outputs": [
    {
     "name": "stdout",
     "output_type": "stream",
     "text": [
      "Digite uma palavra: Brasil Hexa 2018\n",
      "Digite outra palavra: Brasil! Hexa 2018\n",
      "Tamanho da primeira String 16\n",
      "Tamanho da segunda String 17\n",
      "As duas strings são de tamanhos diferentes\n",
      "A duas strings possuem conteúdo diferentes\n"
     ]
    }
   ],
   "source": [
    "string1 = input(\"Digite uma palavra: \")\n",
    "string2 = input(\"Digite outra palavra: \")\n",
    "tamanho1 = len(string1)\n",
    "tamanho2 = len(string2)\n",
    "print('Tamanho da primeira String %.f' % (tamanho1))\n",
    "print('Tamanho da segunda String %.f' % (tamanho2))\n",
    "\n",
    "if(tamanho1 == tamanho2):\n",
    "    print(\"As duas strings tem o mesmo tamanho\")\n",
    "else:\n",
    "    print(\"As duas strings são de tamanhos diferentes\")\n",
    "\n",
    "if(string1 == string2):\n",
    "    print(\"As duas strings tem o mesmo conteúdo\")\n",
    "else:\n",
    "    print(\"A duas strings possuem conteúdo diferentes\")\n"
   ]
  },
  {
   "cell_type": "markdown",
   "metadata": {},
   "source": [
    "10 Faça um programa que permita ao usuário digitar o seu nome e em seguida\n",
    "mostre o nome do usuário de trás para frente utilizando somente letras maiúsculas.\n",
    "Dica: lembre−se que ao informar o nome o usuário pode digitar letras maiúsculas ou\n",
    "minúsculas. Observação: não use loops."
   ]
  },
  {
   "cell_type": "code",
   "execution_count": 19,
   "metadata": {},
   "outputs": [
    {
     "name": "stdout",
     "output_type": "stream",
     "text": [
      "Digite seu nomeAline\n",
      "ENILA\n"
     ]
    }
   ],
   "source": [
    "nome = input(\"Digite seu nome: \")\n",
    "maiuscula = nome.upper()\n",
    "print ( maiuscula[::-1])"
   ]
  },
  {
   "cell_type": "markdown",
   "metadata": {},
   "source": [
    "11 Faça um programa que solicite a data de nascimento (dd/mm/aaaa) do usuário e\n",
    "imprima a data com o nome do mês por extenso.\n",
    "Data de Nascimento: 29/10/1973\n",
    "Você nasceu em 29 de Outubro de 1973.\n",
    "Obs.: Não use desvio condicional nem loops.\n"
   ]
  },
  {
   "cell_type": "code",
   "execution_count": 2,
   "metadata": {},
   "outputs": [
    {
     "name": "stdout",
     "output_type": "stream",
     "text": [
      "Digite sua data de nascimento dd/mm/aaaa01/09/1999\n",
      "Você nasceu em 01 de setembro de 1999.\n",
      "['01', '09', '1999']\n"
     ]
    }
   ],
   "source": [
    "data = input(\"Digite sua data de nascimento dd/mm/aaaa\")\n",
    "data = data.split('/')\n",
    "meses =('janeiro','fevereiro','mar','abril','maio','junho','julho','agosto','setembro','outubro','novembro','dezembro')\n",
    "print(f'Você nasceu em {data[0]} de {meses[ int(data[1]) - 1 ]} de {data[2]}.')\n",
    "print(data)"
   ]
  },
  {
   "cell_type": "markdown",
   "metadata": {},
   "source": [
    "12 Leet é uma forma de se escrever o alfabeto latino usando outros símbolos em\n",
    "lugar das letras, como números por exemplo. A própria palavra leet admite muitas\n",
    "variações, como l33t ou 1337. O uso do leet reflete uma subcultura relacionada ao\n",
    "mundo dos jogos de computador e internet, sendo muito usada para confundir os\n",
    "iniciantes e afirmar-se como parte de um grupo. Pesquise sobre as principais formas\n",
    "de traduzir as letras. Depois, faça um programa que peça uma texto e transforme-o\n",
    "para a grafia leet speak"
   ]
  },
  {
   "cell_type": "code",
   "execution_count": 3,
   "metadata": {},
   "outputs": [
    {
     "name": "stdout",
     "output_type": "stream",
     "text": [
      "Insira um texto normal e veja a mágicaoi, tudo bem ? \n",
      "0i, tud0 b3m ? \n"
     ]
    }
   ],
   "source": [
    "textoNormal = input(\"Insira um texto normal e veja a mágica\")\n",
    "textLeet = ''\n",
    "leet = {\"a\":\"4\",\"e\":\"3\",\"l\":\"1\",\"o\":\"0\",\"s\":\"5\"}\n",
    "for caracter in textoNormal:\n",
    "    if(caracter in leet):\n",
    "        textLeet += leet[caracter]\n",
    "    else:\n",
    "        textLeet += caracter\n",
    "\n",
    "print(textLeet) "
   ]
  },
  {
   "cell_type": "code",
   "execution_count": null,
   "metadata": {},
   "outputs": [],
   "source": []
  }
 ],
 "metadata": {
  "kernelspec": {
   "display_name": "Python 3",
   "language": "python",
   "name": "python3"
  },
  "language_info": {
   "codemirror_mode": {
    "name": "ipython",
    "version": 3
   },
   "file_extension": ".py",
   "mimetype": "text/x-python",
   "name": "python",
   "nbconvert_exporter": "python",
   "pygments_lexer": "ipython3",
   "version": "3.7.1"
  }
 },
 "nbformat": 4,
 "nbformat_minor": 2
}
